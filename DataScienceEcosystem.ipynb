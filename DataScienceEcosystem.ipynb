{
  "nbformat": 4,
  "nbformat_minor": 0,
  "metadata": {
    "colab": {
      "provenance": [],
      "authorship_tag": "ABX9TyM7XjB1X7QXJfUq/8tASsgh",
      "include_colab_link": true
    },
    "kernelspec": {
      "name": "python3",
      "display_name": "Python 3"
    },
    "language_info": {
      "name": "python"
    }
  },
  "cells": [
    {
      "cell_type": "markdown",
      "metadata": {
        "id": "view-in-github",
        "colab_type": "text"
      },
      "source": [
        "<a href=\"https://colab.research.google.com/github/Grekmi/Data-Science-Tools-and-Ecosystem/blob/main/DataScienceEcosystem.ipynb\" target=\"_parent\"><img src=\"https://colab.research.google.com/assets/colab-badge.svg\" alt=\"Open In Colab\"/></a>"
      ]
    },
    {
      "cell_type": "markdown",
      "source": [
        "# Data Science Tools and Ecosystem\n"
      ],
      "metadata": {
        "id": "Rs1HI4wTzSGV"
      }
    },
    {
      "cell_type": "markdown",
      "source": [
        "The tools and ecosystems within the field of Data Science provide the foundation for collecting, processing, analyzing, and visualizing data to make data-driven decisions.\n",
        "In this notebook, Data Science Tools and Ecosystem are summarized.\n"
      ],
      "metadata": {
        "id": "oKJnmtU6zk2v"
      }
    },
    {
      "cell_type": "markdown",
      "source": [
        "Some of the popular languages that Data Scientists use are:\n",
        "1. Python\n",
        "2. R\n",
        "3. SQL\n",
        "4. Java\n",
        "5. Julia\n"
      ],
      "metadata": {
        "id": "JM5C4uIzzr98"
      }
    },
    {
      "cell_type": "markdown",
      "source": [
        "Some of the commonly used libraries used by Data Scientists include:\n",
        "1. NumPy\n",
        "2. Pandas\n",
        "3. Matplotlib\n",
        "4. Scikit-learn\n",
        "5. TensorFlow\n"
      ],
      "metadata": {
        "id": "vvvJ8_kpz8Xu"
      }
    },
    {
      "cell_type": "markdown",
      "source": [
        "| Data Science Tools     |\n",
        "|-------------------------|\n",
        "| Jupyter Notebook       |\n",
        "| RStudio                |\n",
        "| Apache Zeppelin        |\n"
      ],
      "metadata": {
        "id": "P_VqGwU30MLe"
      }
    },
    {
      "cell_type": "markdown",
      "source": [
        "### Below are a few examples of evaluating arithmetic expressions in Python.\n"
      ],
      "metadata": {
        "id": "E2rZq2_J0WZc"
      }
    },
    {
      "cell_type": "markdown",
      "source": [
        "# This is a simple arithmetic expression to multiply then add integers\n"
      ],
      "metadata": {
        "id": "Gvbz_JSD0fJA"
      }
    },
    {
      "cell_type": "code",
      "source": [
        "(3 * 4) + 5"
      ],
      "metadata": {
        "colab": {
          "base_uri": "https://localhost:8080/"
        },
        "id": "jTt3nnFz1MqW",
        "outputId": "f6beb192-a4fe-4e89-c3aa-8290f17cb301"
      },
      "execution_count": null,
      "outputs": [
        {
          "output_type": "execute_result",
          "data": {
            "text/plain": [
              "17"
            ]
          },
          "metadata": {},
          "execution_count": 2
        }
      ]
    },
    {
      "cell_type": "markdown",
      "source": [
        "# This will convert 200 minutes to hours by dividing by 60\n"
      ],
      "metadata": {
        "id": "UqNZp9hZ1RzB"
      }
    },
    {
      "cell_type": "code",
      "source": [
        "200 / 60"
      ],
      "metadata": {
        "colab": {
          "base_uri": "https://localhost:8080/"
        },
        "id": "u8GdU6Vm1XnU",
        "outputId": "8b274e99-ad06-4f16-c9b9-60c47bcad6b4"
      },
      "execution_count": null,
      "outputs": [
        {
          "output_type": "execute_result",
          "data": {
            "text/plain": [
              "3.3333333333333335"
            ]
          },
          "metadata": {},
          "execution_count": 3
        }
      ]
    },
    {
      "cell_type": "markdown",
      "source": [
        "**Objectives:**\n",
        "- List popular languages for Data Science\n",
        "- Identify commonly used libraries in Data Science\n",
        "- Highlight open-source Data Science tools\n",
        "- Provide examples of simple arithmetic expressions in Python\n"
      ],
      "metadata": {
        "id": "Rz2pCN9T1x3b"
      }
    },
    {
      "cell_type": "markdown",
      "source": [
        "## Author  \n",
        "GRECIA MICOL FLORES MARTINEZ\n"
      ],
      "metadata": {
        "id": "lqQ2qG8a2C4h"
      }
    }
  ]
}